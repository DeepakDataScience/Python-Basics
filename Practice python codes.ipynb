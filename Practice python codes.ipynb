{
 "cells": [
  {
   "cell_type": "code",
   "execution_count": 1,
   "metadata": {},
   "outputs": [
    {
     "name": "stdout",
     "output_type": "stream",
     "text": [
      "23123\n",
      "Hello Deepak: 23123\n"
     ]
    }
   ],
   "source": [
    "str1=input()\n",
    "print('Hello Deepak:', str1)"
   ]
  },
  {
   "cell_type": "code",
   "execution_count": 2,
   "metadata": {},
   "outputs": [
    {
     "name": "stdout",
     "output_type": "stream",
     "text": [
      "sum of a + b =  22\n"
     ]
    }
   ],
   "source": [
    "a= 10\n",
    "b = 12\n",
    "\n",
    "print(\"sum of a + b = \",a+b )"
   ]
  },
  {
   "cell_type": "code",
   "execution_count": 3,
   "metadata": {},
   "outputs": [
    {
     "name": "stdout",
     "output_type": "stream",
     "text": [
      "2312\n"
     ]
    }
   ],
   "source": [
    "str2=input()"
   ]
  },
  {
   "cell_type": "code",
   "execution_count": 4,
   "metadata": {
    "scrolled": true
   },
   "outputs": [
    {
     "name": "stdout",
     "output_type": "stream",
     "text": [
      "please enter a number 1323\n",
      "the entered number is 1323\n",
      "Type of x is: <class 'int'>\n"
     ]
    }
   ],
   "source": [
    "print('please enter a number', end = ' ')\n",
    "x=int(input())\n",
    "print('the entered number is', x)\n",
    "print('Type of x is:', end = ' ')\n",
    "print(type(x))"
   ]
  },
  {
   "cell_type": "code",
   "execution_count": 5,
   "metadata": {},
   "outputs": [
    {
     "name": "stdout",
     "output_type": "stream",
     "text": [
      "please enter a number here:1232\n"
     ]
    }
   ],
   "source": [
    "try:\n",
    "    Num1=int(input('please enter a number here:'))\n",
    "except ValueError as e:\n",
    "    print(e)"
   ]
  },
  {
   "cell_type": "code",
   "execution_count": 6,
   "metadata": {},
   "outputs": [
    {
     "name": "stdout",
     "output_type": "stream",
     "text": [
      "length of rectangle: 312312\n"
     ]
    }
   ],
   "source": [
    "print('length of rectangle:', end = ' ')\n",
    "length = int(input())"
   ]
  },
  {
   "cell_type": "code",
   "execution_count": 12,
   "metadata": {},
   "outputs": [
    {
     "name": "stdout",
     "output_type": "stream",
     "text": [
      "True\n",
      "type of x is: <class 'bool'>\n"
     ]
    }
   ],
   "source": [
    "x=eval(input())\n",
    "print('type of x is:', end = ' ')\n",
    "print(type(x))"
   ]
  },
  {
   "cell_type": "code",
   "execution_count": 25,
   "metadata": {},
   "outputs": [
    {
     "name": "stdout",
     "output_type": "stream",
     "text": [
      "1313.2331313\n"
     ]
    },
    {
     "data": {
      "text/plain": [
       "'1313.23'"
      ]
     },
     "execution_count": 25,
     "metadata": {},
     "output_type": "execute_result"
    }
   ],
   "source": [
    "b=1313.2331313\n",
    "print(b)\n",
    "format(b, '.2f')"
   ]
  },
  {
   "cell_type": "code",
   "execution_count": 31,
   "metadata": {},
   "outputs": [
    {
     "name": "stdout",
     "output_type": "stream",
     "text": [
      "hello world              \n"
     ]
    }
   ],
   "source": [
    "print(format(\"hello world\", '25s'))"
   ]
  },
  {
   "cell_type": "code",
   "execution_count": 46,
   "metadata": {},
   "outputs": [
    {
     "name": "stdout",
     "output_type": "stream",
     "text": [
      "31.20%\n"
     ]
    }
   ],
   "source": [
    "print(format(0.312, '1.2%'))"
   ]
  },
  {
   "cell_type": "code",
   "execution_count": 52,
   "metadata": {},
   "outputs": [
    {
     "name": "stdout",
     "output_type": "stream",
     "text": [
      "enter three numbers:23,87,12\n",
      "p= 23 q= 87 r= 12\n",
      "(p>q>r) is  False\n",
      "(p<q<r) is False\n",
      "(p<q) and (q<r) is  False\n",
      "(p<q) or (q<r) is True\n"
     ]
    }
   ],
   "source": [
    "p, q, r = eval(input('enter three numbers:'))\n",
    "print('p=', p, 'q=', q, 'r=', r)\n",
    "print('(p>q>r) is ', p>q>r)\n",
    "print('(p<q<r) is',p<q<r)\n",
    "print('(p<q) and (q<r) is ', (p<q) and (q<r))\n",
    "print('(p<q) or (q<r) is', (p<q) or (Q<r))\n",
    "\n"
   ]
  },
  {
   "cell_type": "code",
   "execution_count": 71,
   "metadata": {},
   "outputs": [
    {
     "name": "stdout",
     "output_type": "stream",
     "text": [
      "12\n",
      "12\n",
      "Both number are equal x= 12 y= , 12\n"
     ]
    }
   ],
   "source": [
    "try:\n",
    "    x=eval(input())\n",
    "    y=eval(input())\n",
    "    \n",
    "    if x-y==0:\n",
    "        print(\"Both number are equal\", 'x=',x,'y= ,', y)\n",
    "    elif x-y!=0:\n",
    "        print(\"Both number are not same,\", 'x=',x,'y= ,', y)\n",
    "    else:\n",
    "        print(\"the difference of these two numbers is:\", x-y)\n",
    "except Exception as e:\n",
    "    print(e)\n",
    "    "
   ]
  },
  {
   "cell_type": "code",
   "execution_count": 80,
   "metadata": {},
   "outputs": [
    {
     "name": "stdout",
     "output_type": "stream",
     "text": [
      "0\n",
      "not possible 0\n"
     ]
    }
   ],
   "source": [
    "n=int(input())\n",
    "\n",
    "if n>0:\n",
    "    print(n*n)\n",
    "elif n==0:\n",
    "    print(\"not possible\",  n)\n"
   ]
  },
  {
   "cell_type": "code",
   "execution_count": 82,
   "metadata": {},
   "outputs": [
    {
     "name": "stdout",
     "output_type": "stream",
     "text": [
      "enter the first number:12\n",
      "enter the second number:14\n",
      "14 is greater than 12\n"
     ]
    }
   ],
   "source": [
    "n1=int(input('enter the first number:'))\n",
    "n2=int(input('enter the second number:'))\n",
    "\n",
    "if n1>n2:\n",
    "    print(n1,'is greater than', n2)\n",
    "else:\n",
    "    print(n2, 'is greater than', n1)"
   ]
  },
  {
   "cell_type": "code",
   "execution_count": 10,
   "metadata": {},
   "outputs": [
    {
     "name": "stdout",
     "output_type": "stream",
     "text": [
      "please enter number one:1\n",
      "please enter number two:2\n",
      "please enter number three:3\n",
      "1 is lesser than 2 and 2 is greater than 3\n"
     ]
    }
   ],
   "source": [
    "n1=int(input('please enter number one:'))\n",
    "n2=int(input('please enter number two:'))\n",
    "n3=int(input('please enter number three:'))\n",
    "\n",
    "try:\n",
    "    if n1>n2:\n",
    "        if n2>n3:\n",
    "            print(n1, 'is greater than', n2, 'and', n3)\n",
    "    elif n1<n2 or n2>n3:\n",
    "            print(n1, 'is lesser than', n2, 'and' , n2, 'is greater than', n3 )\n",
    "    else:\n",
    "            print(n1,'is less than', n2, 'and', n3)\n",
    "    \n",
    "        \n",
    "except Exception as e:\n",
    "    print(e)"
   ]
  },
  {
   "cell_type": "code",
   "execution_count": 15,
   "metadata": {},
   "outputs": [
    {
     "name": "stdout",
     "output_type": "stream",
     "text": [
      "2\n",
      "2\n",
      "x is equal to y\n"
     ]
    }
   ],
   "source": [
    "x=int(input())\n",
    "y=int(input())\n",
    "\n",
    "\n",
    "if x==y:\n",
    "    print('x is equal to y')\n",
    "elif x>y:\n",
    "    print('x is greater than y')\n",
    "else:\n",
    "    print('x is smaller than y')\n"
   ]
  },
  {
   "cell_type": "code",
   "execution_count": 17,
   "metadata": {},
   "outputs": [
    {
     "name": "stdout",
     "output_type": "stream",
     "text": [
      "Enter the day of the week:7\n",
      "its sunday\n"
     ]
    }
   ],
   "source": [
    "day = int(input('Enter the day of the week:'))\n",
    "\n",
    "\n",
    "if day==1:\n",
    "    print('its monday')\n",
    "elif day==2:\n",
    "      print('its tuesday')\n",
    "elif day==3:\n",
    "     print('its wednesday')\n",
    "elif day==4:\n",
    "     print('its thursday')\n",
    "elif day==5:\n",
    "      print('its friday')\n",
    "elif day==6:\n",
    "     print('its saturday')\n",
    "elif day==7:\n",
    "     print('its sunday')\n",
    "else:\n",
    "    print('sorry! weeks contains only 7 days')"
   ]
  },
  {
   "cell_type": "markdown",
   "metadata": {},
   "source": [
    "Write a program to find the smaller number among the two number:"
   ]
  },
  {
   "cell_type": "code",
   "execution_count": 22,
   "metadata": {},
   "outputs": [
    {
     "name": "stdout",
     "output_type": "stream",
     "text": [
      "enter the first number:212\n",
      "enter the second number:123\n",
      "min = 123\n"
     ]
    }
   ],
   "source": [
    "n1 = int(input('enter the first number:'))\n",
    "n2 = int(input('enter the second number:'))\n",
    "\n",
    "if n1<n2:\n",
    "    min=n1\n",
    "    print('min=', min)\n",
    "else:\n",
    "    min=n2\n",
    "    print('min =', min)"
   ]
  },
  {
   "cell_type": "markdown",
   "metadata": {},
   "source": [
    "Finding the number of days in a month?"
   ]
  },
  {
   "cell_type": "code",
   "execution_count": 25,
   "metadata": {},
   "outputs": [
    {
     "name": "stdout",
     "output_type": "stream",
     "text": [
      "this program will print number of days in a month\n",
      "Enter the month (1-12):14\n",
      "please enter valid month\n"
     ]
    }
   ],
   "source": [
    "print('this program will print number of days in a month')\n",
    "\n",
    "flag=1  #assumes that user enters valid input\n",
    "\n",
    "#Get month from user\n",
    "month = (int(input('Enter the month (1-12):')))\n",
    "\n",
    "#check if the entered month is 2 (i.e Feb)\n",
    "\n",
    "if month ==2:\n",
    "    year=int(input('Enter Year:'))\n",
    "    \n",
    "    if ((year / 4) ==0) and ((year/100) !=0) or ((year/400)==0):\n",
    "        num_days=29\n",
    "    \n",
    "    else:\n",
    "        num_days=29\n",
    "        \n",
    "#if entered month is Jan, Mar, May, July, August, October, December\n",
    "\n",
    "elif month in (1,3,5,7,8,10,12):\n",
    "    num_days=31\n",
    "    \n",
    "#if entered month is April, June, September, November\n",
    "\n",
    "elif month in (4, 6, 9, 11):\n",
    "    num_days=30\n",
    "    \n",
    "else:\n",
    "    print('please enter valid month')\n",
    "    flag=0\n",
    "    \n",
    "#Finally print number of days\n",
    "\n",
    "if flag==1:\n",
    "    print('There are', num_days,'days in the', month, 'month of the year')\n"
   ]
  },
  {
   "cell_type": "code",
   "execution_count": 27,
   "metadata": {},
   "outputs": [
    {
     "name": "stdout",
     "output_type": "stream",
     "text": [
      "Y= 5\n"
     ]
    }
   ],
   "source": [
    "x=0\n",
    "y=0\n",
    "\n",
    "if x>y:\n",
    "    y=y+1\n",
    "else:\n",
    "    if x<0:\n",
    "        y=y+2\n",
    "    else:\n",
    "        y=y+5\n",
    "print('Y=', y)"
   ]
  },
  {
   "cell_type": "code",
   "execution_count": 29,
   "metadata": {},
   "outputs": [
    {
     "name": "stdout",
     "output_type": "stream",
     "text": [
      "Num = 30\n"
     ]
    }
   ],
   "source": [
    "i=10\n",
    "j=20\n",
    "k=30\n",
    "\n",
    "if j>k:\n",
    "    if i>j:\n",
    "        num=i\n",
    "    else:\n",
    "        num=j\n",
    "else:\n",
    "    if i>k:\n",
    "        num=i\n",
    "    else:\n",
    "        num=k\n",
    "print('Num =', num)"
   ]
  },
  {
   "cell_type": "code",
   "execution_count": 30,
   "metadata": {},
   "outputs": [
    {
     "name": "stdout",
     "output_type": "stream",
     "text": [
      "the person is not eligible for blood donation\n"
     ]
    }
   ],
   "source": [
    "weight = 10\n",
    "\n",
    "if weight >=55:\n",
    "    print(\"the person is eligible for blood donation\")\n",
    "if weight<55:\n",
    "    print('the person is not eligible for blood donation')"
   ]
  },
  {
   "cell_type": "code",
   "execution_count": 31,
   "metadata": {},
   "outputs": [
    {
     "name": "stdout",
     "output_type": "stream",
     "text": [
      "the person is not eligible for blood donation\n"
     ]
    }
   ],
   "source": [
    "weight = 10\n",
    "\n",
    "if weight >=55:\n",
    "    print(\"the person is eligible for blood donation\")\n",
    "else:\n",
    "    print('the person is not eligible for blood donation')"
   ]
  },
  {
   "cell_type": "code",
   "execution_count": 36,
   "metadata": {},
   "outputs": [
    {
     "name": "stdout",
     "output_type": "stream",
     "text": [
      "Bye\n"
     ]
    }
   ],
   "source": [
    "if (5<1)and (10<1):\n",
    "    print('Hello')\n",
    "elif (20>100) or False:\n",
    "    print('Hii')\n",
    "else:\n",
    "    print('Bye')"
   ]
  },
  {
   "cell_type": "code",
   "execution_count": 1,
   "metadata": {},
   "outputs": [
    {
     "name": "stdout",
     "output_type": "stream",
     "text": [
      "enter the temp:76\n",
      "Hot temp 76\n"
     ]
    }
   ],
   "source": [
    "temp=int(input('enter the temp:'))\n",
    "\n",
    "if temp>=50:\n",
    "    print('Hot temp', temp)\n",
    "else:\n",
    "    print('temp is cold')"
   ]
  },
  {
   "cell_type": "markdown",
   "metadata": {},
   "source": [
    "# Look Control Statements"
   ]
  },
  {
   "cell_type": "raw",
   "metadata": {},
   "source": [
    "while test-condition:\n",
    "    #Loop Body\n",
    "    statements (s)"
   ]
  },
  {
   "cell_type": "markdown",
   "metadata": {},
   "source": [
    "Write a program to print the numbers from one to five using the WHILE LOOP"
   ]
  },
  {
   "cell_type": "code",
   "execution_count": 12,
   "metadata": {},
   "outputs": [
    {
     "name": "stdout",
     "output_type": "stream",
     "text": [
      "Count = 0\n",
      "Count = 1\n",
      "Count = 2\n",
      "Count = 3\n",
      "Count = 4\n",
      "Count = 5\n"
     ]
    }
   ],
   "source": [
    "count = 0 #initialize the counter\n",
    "\n",
    "while count<=5:\n",
    "    print('Count =', count)\n",
    "    count = count + 1"
   ]
  },
  {
   "cell_type": "raw",
   "metadata": {},
   "source": [
    "Write a program to add 10 consecutive numbers starting from 1 using the while loop."
   ]
  },
  {
   "cell_type": "code",
   "execution_count": 2,
   "metadata": {},
   "outputs": [
    {
     "name": "stdout",
     "output_type": "stream",
     "text": [
      "sum of first 10 numbers = 55\n"
     ]
    }
   ],
   "source": [
    "count = 0\n",
    "sum = 0\n",
    "\n",
    "while count<=10:\n",
    "    sum = sum + count\n",
    "    count = count + 1\n",
    "print('sum of first 10 numbers =', sum)"
   ]
  },
  {
   "cell_type": "markdown",
   "metadata": {},
   "source": [
    "Write a program to find the sum of the digits of a given number"
   ]
  },
  {
   "cell_type": "code",
   "execution_count": 14,
   "metadata": {},
   "outputs": [
    {
     "name": "stdout",
     "output_type": "stream",
     "text": [
      "Enter a number:12345\n",
      "Sum of the digits of an entered number 12345  is = 15\n"
     ]
    }
   ],
   "source": [
    "num=int(input('Enter a number:'))\n",
    "x=num\n",
    "\n",
    "sum=0\n",
    "rem=0\n",
    "\n",
    "while num>0:\n",
    "    rem=num % 10\n",
    "    num = num//10\n",
    "    sum = sum + rem\n",
    "\n",
    "print(\"Sum of the digits of an entered number\", x,\" is =\", sum)"
   ]
  },
  {
   "cell_type": "code",
   "execution_count": 10,
   "metadata": {},
   "outputs": [
    {
     "data": {
      "text/plain": [
       "5"
      ]
     },
     "execution_count": 10,
     "metadata": {},
     "output_type": "execute_result"
    }
   ],
   "source": [
    "12345%10"
   ]
  },
  {
   "cell_type": "code",
   "execution_count": 15,
   "metadata": {},
   "outputs": [
    {
     "data": {
      "text/plain": [
       "1234"
      ]
     },
     "execution_count": 15,
     "metadata": {},
     "output_type": "execute_result"
    }
   ],
   "source": [
    "12345//10"
   ]
  },
  {
   "cell_type": "code",
   "execution_count": 16,
   "metadata": {},
   "outputs": [
    {
     "data": {
      "text/plain": [
       "4"
      ]
     },
     "execution_count": 16,
     "metadata": {},
     "output_type": "execute_result"
    }
   ],
   "source": [
    "1234%10"
   ]
  },
  {
   "cell_type": "code",
   "execution_count": 17,
   "metadata": {},
   "outputs": [
    {
     "data": {
      "text/plain": [
       "123"
      ]
     },
     "execution_count": 17,
     "metadata": {},
     "output_type": "execute_result"
    }
   ],
   "source": [
    "1234//10"
   ]
  },
  {
   "cell_type": "code",
   "execution_count": 18,
   "metadata": {},
   "outputs": [
    {
     "data": {
      "text/plain": [
       "3"
      ]
     },
     "execution_count": 18,
     "metadata": {},
     "output_type": "execute_result"
    }
   ],
   "source": [
    "123%10"
   ]
  },
  {
   "cell_type": "code",
   "execution_count": 19,
   "metadata": {},
   "outputs": [
    {
     "data": {
      "text/plain": [
       "12"
      ]
     },
     "execution_count": 19,
     "metadata": {},
     "output_type": "execute_result"
    }
   ],
   "source": [
    "123//10"
   ]
  },
  {
   "cell_type": "code",
   "execution_count": 20,
   "metadata": {},
   "outputs": [
    {
     "data": {
      "text/plain": [
       "2"
      ]
     },
     "execution_count": 20,
     "metadata": {},
     "output_type": "execute_result"
    }
   ],
   "source": [
    "12%10"
   ]
  },
  {
   "cell_type": "code",
   "execution_count": 21,
   "metadata": {},
   "outputs": [
    {
     "data": {
      "text/plain": [
       "1"
      ]
     },
     "execution_count": 21,
     "metadata": {},
     "output_type": "execute_result"
    }
   ],
   "source": [
    "12//10"
   ]
  },
  {
   "cell_type": "code",
   "execution_count": 22,
   "metadata": {},
   "outputs": [
    {
     "data": {
      "text/plain": [
       "1"
      ]
     },
     "execution_count": 22,
     "metadata": {},
     "output_type": "execute_result"
    }
   ],
   "source": [
    "1%10"
   ]
  },
  {
   "cell_type": "code",
   "execution_count": 23,
   "metadata": {},
   "outputs": [
    {
     "data": {
      "text/plain": [
       "0"
      ]
     },
     "execution_count": 23,
     "metadata": {},
     "output_type": "execute_result"
    }
   ],
   "source": [
    "1//10"
   ]
  },
  {
   "cell_type": "markdown",
   "metadata": {},
   "source": [
    "Write a program to display the reverse of the number entered"
   ]
  },
  {
   "cell_type": "code",
   "execution_count": 26,
   "metadata": {},
   "outputs": [
    {
     "name": "stdout",
     "output_type": "stream",
     "text": [
      "enter the number:1234\n",
      "the number entered is 1234 whose reverse is 4321\n"
     ]
    }
   ],
   "source": [
    "num=int(input('enter the number:'))\n",
    "x=num\n",
    "\n",
    "rev=0\n",
    "\n",
    "while num>0:\n",
    "    rem=num%10\n",
    "    num=num//10\n",
    "    rev=rev*10+rem\n",
    "print(\"the number entered is\", x, 'whose reverse is', rev)"
   ]
  },
  {
   "cell_type": "markdown",
   "metadata": {},
   "source": [
    "Write a program to print the sum of numbers from 1 to 20, that are divisible by 5 using the while loop\n"
   ]
  },
  {
   "cell_type": "code",
   "execution_count": 3,
   "metadata": {},
   "outputs": [
    {
     "name": "stdout",
     "output_type": "stream",
     "text": [
      "sum: 50\n"
     ]
    }
   ],
   "source": [
    "count=1\n",
    "sum = 0\n",
    "\n",
    "while count<=20:\n",
    "    if count%5==0:\n",
    "        sum=sum+count\n",
    "    count=count+1\n",
    "print('sum:', sum)\n",
    "    \n"
   ]
  },
  {
   "cell_type": "markdown",
   "metadata": {},
   "source": [
    "Write a program to print factorial of a number\n",
    "\n"
   ]
  },
  {
   "cell_type": "code",
   "execution_count": 1,
   "metadata": {},
   "outputs": [
    {
     "name": "stdout",
     "output_type": "stream",
     "text": [
      "Enter the number:6\n",
      "factorial of 6 is: 720\n"
     ]
    }
   ],
   "source": [
    "num=int(input('Enter the number:'))\n",
    "fact=1\n",
    "ans=1\n",
    "\n",
    "while fact<=num:\n",
    "    ans=ans*fact\n",
    "    fact=fact+1\n",
    "    \n",
    "print('factorial of',num, 'is:', ans)"
   ]
  },
  {
   "cell_type": "markdown",
   "metadata": {},
   "source": [
    "Write a program to check whether the number entered is an Armstrong number or not\n",
    "\n",
    "    153 = 1^3 + 2^3 + 3^3"
   ]
  },
  {
   "cell_type": "code",
   "execution_count": 9,
   "metadata": {},
   "outputs": [
    {
     "name": "stdout",
     "output_type": "stream",
     "text": [
      "153\n",
      "the number 153 is armstrong number\n"
     ]
    }
   ],
   "source": [
    "num=int(input())\n",
    "sum=0\n",
    "x=num\n",
    "\n",
    "while num>0:\n",
    "    d=num%10\n",
    "    num=num//10\n",
    "    sum=sum + (d*d*d)\n",
    "if (x==sum):\n",
    "    print(\"the number\", x, \"is armstrong number\")\n",
    "else:\n",
    "    print('the number', x, 'is not armstrong number')"
   ]
  },
  {
   "cell_type": "code",
   "execution_count": 10,
   "metadata": {},
   "outputs": [
    {
     "data": {
      "text/plain": [
       "3"
      ]
     },
     "execution_count": 10,
     "metadata": {},
     "output_type": "execute_result"
    }
   ],
   "source": [
    "153%10"
   ]
  },
  {
   "cell_type": "code",
   "execution_count": 11,
   "metadata": {},
   "outputs": [
    {
     "data": {
      "text/plain": [
       "15"
      ]
     },
     "execution_count": 11,
     "metadata": {},
     "output_type": "execute_result"
    }
   ],
   "source": [
    "153//10"
   ]
  },
  {
   "cell_type": "code",
   "execution_count": 12,
   "metadata": {},
   "outputs": [
    {
     "data": {
      "text/plain": [
       "27"
      ]
     },
     "execution_count": 12,
     "metadata": {},
     "output_type": "execute_result"
    }
   ],
   "source": [
    "3*3*3"
   ]
  },
  {
   "cell_type": "code",
   "execution_count": 18,
   "metadata": {},
   "outputs": [
    {
     "data": {
      "text/plain": [
       "5"
      ]
     },
     "execution_count": 18,
     "metadata": {},
     "output_type": "execute_result"
    }
   ],
   "source": [
    "15%10"
   ]
  },
  {
   "cell_type": "code",
   "execution_count": 14,
   "metadata": {},
   "outputs": [
    {
     "data": {
      "text/plain": [
       "1"
      ]
     },
     "execution_count": 14,
     "metadata": {},
     "output_type": "execute_result"
    }
   ],
   "source": [
    "15//10"
   ]
  },
  {
   "cell_type": "code",
   "execution_count": 21,
   "metadata": {},
   "outputs": [
    {
     "data": {
      "text/plain": [
       "152"
      ]
     },
     "execution_count": 21,
     "metadata": {},
     "output_type": "execute_result"
    }
   ],
   "source": [
    "27 + (5*5*5)"
   ]
  },
  {
   "cell_type": "code",
   "execution_count": 22,
   "metadata": {},
   "outputs": [
    {
     "data": {
      "text/plain": [
       "1"
      ]
     },
     "execution_count": 22,
     "metadata": {},
     "output_type": "execute_result"
    }
   ],
   "source": [
    "1%10"
   ]
  },
  {
   "cell_type": "code",
   "execution_count": 23,
   "metadata": {},
   "outputs": [
    {
     "data": {
      "text/plain": [
       "0"
      ]
     },
     "execution_count": 23,
     "metadata": {},
     "output_type": "execute_result"
    }
   ],
   "source": [
    "1//10"
   ]
  },
  {
   "cell_type": "code",
   "execution_count": 25,
   "metadata": {},
   "outputs": [
    {
     "data": {
      "text/plain": [
       "153"
      ]
     },
     "execution_count": 25,
     "metadata": {},
     "output_type": "execute_result"
    }
   ],
   "source": [
    "152 + (1*1*1) "
   ]
  },
  {
   "cell_type": "markdown",
   "metadata": {},
   "source": [
    "# THE range() FUNCTION"
   ]
  },
  {
   "cell_type": "code",
   "execution_count": 26,
   "metadata": {},
   "outputs": [
    {
     "data": {
      "text/plain": [
       "range(0, 6)"
      ]
     },
     "execution_count": 26,
     "metadata": {},
     "output_type": "execute_result"
    }
   ],
   "source": [
    "range(6)"
   ]
  },
  {
   "cell_type": "code",
   "execution_count": 27,
   "metadata": {},
   "outputs": [
    {
     "data": {
      "text/plain": [
       "[0, 1, 2, 3, 4, 5]"
      ]
     },
     "execution_count": 27,
     "metadata": {},
     "output_type": "execute_result"
    }
   ],
   "source": [
    "list(range(6))"
   ]
  },
  {
   "cell_type": "code",
   "execution_count": 28,
   "metadata": {},
   "outputs": [
    {
     "data": {
      "text/plain": [
       "range(0, 20, 5)"
      ]
     },
     "execution_count": 28,
     "metadata": {},
     "output_type": "execute_result"
    }
   ],
   "source": [
    "range(0, 20, 5)"
   ]
  },
  {
   "cell_type": "code",
   "execution_count": 29,
   "metadata": {},
   "outputs": [
    {
     "data": {
      "text/plain": [
       "[1, 3, 5, 7, 9, 11, 13, 15, 17, 19]"
      ]
     },
     "execution_count": 29,
     "metadata": {},
     "output_type": "execute_result"
    }
   ],
   "source": [
    "list(range(1,20,2))"
   ]
  },
  {
   "cell_type": "code",
   "execution_count": 32,
   "metadata": {},
   "outputs": [
    {
     "data": {
      "text/plain": [
       "[]"
      ]
     },
     "execution_count": 32,
     "metadata": {},
     "output_type": "execute_result"
    }
   ],
   "source": [
    "list(range(-5,5, -1))"
   ]
  },
  {
   "cell_type": "markdown",
   "metadata": {},
   "source": [
    "# FOR LOOP"
   ]
  },
  {
   "cell_type": "code",
   "execution_count": 38,
   "metadata": {},
   "outputs": [
    {
     "name": "stdout",
     "output_type": "stream",
     "text": [
      "1\n",
      "3\n",
      "5\n",
      "end of the program\n"
     ]
    }
   ],
   "source": [
    "# Use the loop to print numbers from 1 to 5\n",
    "\n",
    "for i in range(1,6,2):\n",
    "    print(i)\n",
    "print('end of the program')"
   ]
  },
  {
   "cell_type": "code",
   "execution_count": 40,
   "metadata": {},
   "outputs": [
    {
     "name": "stdout",
     "output_type": "stream",
     "text": [
      "the capital letters A to Z are as follows:\n",
      "A B C D E F G H I J K L M N O P Q R S T U V W X Y Z "
     ]
    }
   ],
   "source": [
    "print('the capital letters A to Z are as follows:')\n",
    "\n",
    "for i in range(65, 91, 1):\n",
    "    print(chr(i), end=' ')"
   ]
  },
  {
   "cell_type": "markdown",
   "metadata": {},
   "source": [
    "use loop to print numbers from 1 to 10 in reverse order"
   ]
  },
  {
   "cell_type": "code",
   "execution_count": 50,
   "metadata": {},
   "outputs": [
    {
     "name": "stdout",
     "output_type": "stream",
     "text": [
      "10\n",
      "9\n",
      "8\n",
      "7\n",
      "6\n",
      "5\n",
      "4\n",
      "3\n",
      "2\n",
      "1\n"
     ]
    }
   ],
   "source": [
    "for i in range(10,0,-1):\n",
    "    print(i)"
   ]
  },
  {
   "cell_type": "markdown",
   "metadata": {},
   "source": [
    "Write a program to print squares of the first five numbers"
   ]
  },
  {
   "cell_type": "code",
   "execution_count": 57,
   "metadata": {},
   "outputs": [
    {
     "data": {
      "text/plain": [
       "[1, 4, 9, 16, 25]"
      ]
     },
     "execution_count": 57,
     "metadata": {},
     "output_type": "execute_result"
    }
   ],
   "source": [
    "l=[]\n",
    "for i in range(1,6):\n",
    "    l.append(i*i)\n",
    "l"
   ]
  },
  {
   "cell_type": "markdown",
   "metadata": {},
   "source": [
    "Write a program to print even numbers from 0 to 10 and find their sum"
   ]
  },
  {
   "cell_type": "code",
   "execution_count": 74,
   "metadata": {},
   "outputs": [
    {
     "name": "stdout",
     "output_type": "stream",
     "text": [
      "0\n",
      "2\n",
      "4\n",
      "6\n",
      "8\n",
      "10\n",
      "sum of even numbers: 30\n"
     ]
    }
   ],
   "source": [
    "sum=0\n",
    "\n",
    "for i in range(0,11):\n",
    "    if i%2==0:\n",
    "        print(i)\n",
    "        sum=sum+i\n",
    "print('sum of even numbers:', sum)\n"
   ]
  },
  {
   "cell_type": "markdown",
   "metadata": {},
   "source": [
    "Write a program to calculate the sum of numbers from 1 to 20 which are not divisble 2, 3, or 5"
   ]
  },
  {
   "cell_type": "code",
   "execution_count": 7,
   "metadata": {},
   "outputs": [
    {
     "name": "stdout",
     "output_type": "stream",
     "text": [
      "\n",
      "\n",
      "\n",
      "\n",
      "\n",
      "\n",
      "\n",
      "\n",
      "\n",
      "\n",
      "\n",
      "\n",
      "\n",
      "[1, 7, 11, 13, 17, 19]\n",
      "sum of such numbers: 68\n"
     ]
    }
   ],
   "source": [
    "sum=0\n",
    "list=[]\n",
    "\n",
    "for i in range(1,20):\n",
    "    if i%2==0 or i%3==0 or i%5==0:\n",
    "        print(\"\")\n",
    "    else:\n",
    "        list.append(i)\n",
    "        sum=sum+i\n",
    "print(list)       \n",
    "print('sum of such numbers:', sum)"
   ]
  },
  {
   "cell_type": "markdown",
   "metadata": {},
   "source": [
    "Write a program that prompts a user to enter four numbers and find the greatest number among the four numbers entered"
   ]
  },
  {
   "cell_type": "code",
   "execution_count": 11,
   "metadata": {},
   "outputs": [
    {
     "name": "stdout",
     "output_type": "stream",
     "text": [
      "1\n",
      "2\n",
      "3\n",
      "4\n",
      "largest number: 4\n"
     ]
    }
   ],
   "source": [
    "n1=int(input())\n",
    "n2=int(input())\n",
    "n3=int(input())\n",
    "n4=int(input())\n",
    "\n",
    "sum=n1+n1+n3+n4\n",
    "\n",
    "for i in range(sum):\n",
    "     if i==n1 or i==n2 or i==3 or i==4:\n",
    "            Large=i\n",
    "print('largest number:', Large)\n",
    "\n",
    "\n",
    "\n",
    "#print('the max of these numbers is:', max(n1,n2,n3,n4))\n"
   ]
  },
  {
   "cell_type": "code",
   "execution_count": 12,
   "metadata": {},
   "outputs": [
    {
     "name": "stdout",
     "output_type": "stream",
     "text": [
      "1\n",
      "2\n",
      "3\n",
      "4\n"
     ]
    },
    {
     "data": {
      "text/plain": [
       "range(0, 9)"
      ]
     },
     "execution_count": 12,
     "metadata": {},
     "output_type": "execute_result"
    }
   ],
   "source": [
    "n1=int(input())\n",
    "n2=int(input())\n",
    "n3=int(input())\n",
    "n4=int(input())\n",
    "\n",
    "sum=n1+n1+n3+n4\n",
    "\n",
    "\n",
    "range(sum)"
   ]
  },
  {
   "cell_type": "markdown",
   "metadata": {},
   "source": [
    "Write a program to generate a triangular number"
   ]
  },
  {
   "cell_type": "code",
   "execution_count": 6,
   "metadata": {},
   "outputs": [
    {
     "name": "stdout",
     "output_type": "stream",
     "text": [
      "5\n",
      "triangular 5 is 15\n"
     ]
    }
   ],
   "source": [
    "num=int(input())\n",
    "x=num\n",
    "\n",
    "T_num=0\n",
    "\n",
    "for i in list(range(x, 0 , -1)):\n",
    "    T_num=T_num+ i\n",
    "print('triangular', num, 'is', T_num)"
   ]
  },
  {
   "cell_type": "code",
   "execution_count": 3,
   "metadata": {},
   "outputs": [
    {
     "data": {
      "text/plain": [
       "[5, 4, 3, 2, 1]"
      ]
     },
     "execution_count": 3,
     "metadata": {},
     "output_type": "execute_result"
    }
   ],
   "source": [
    "list(range(5, 0 , -1))"
   ]
  },
  {
   "cell_type": "markdown",
   "metadata": {},
   "source": [
    "Write a program to print Fibonacci series upp to 8"
   ]
  },
  {
   "cell_type": "code",
   "execution_count": 8,
   "metadata": {},
   "outputs": [
    {
     "name": "stdout",
     "output_type": "stream",
     "text": [
      "0\n",
      "1\n",
      "no of Fibonacci numbers to be printed:8\n",
      "1 2 3 5 8 13 21 34 55 "
     ]
    }
   ],
   "source": [
    "f1=int(input())\n",
    "f2=int(input())\n",
    "f3=int(input('no of Fibonacci numbers to be printed:'))\n",
    "\n",
    "for i in range(f3+1):\n",
    "    sum=f1+f2\n",
    "    f1=f2\n",
    "    f2=sum\n",
    "    print(sum, end=' ')"
   ]
  },
  {
   "cell_type": "markdown",
   "metadata": {},
   "source": [
    "# Nested Loops"
   ]
  },
  {
   "cell_type": "markdown",
   "metadata": {},
   "source": [
    "The FOR LOOP and WHILE LOOP statements can be nested in the same manner in which the IF statement are nested. \n",
    "\n",
    "LOOPS within the LOOPS or when one LOOP in inserted completely within another LOOP then it is called Nested LOOP"
   ]
  },
  {
   "cell_type": "code",
   "execution_count": 2,
   "metadata": {},
   "outputs": [
    {
     "name": "stdout",
     "output_type": "stream",
     "text": [
      "i= 1 j= 1 i + j= 2\n",
      "i= 1 j= 2 i + j= 3\n",
      "i= 1 j= 3 i + j= 4\n",
      "i= 2 j= 1 i + j= 3\n",
      "i= 2 j= 2 i + j= 4\n",
      "i= 2 j= 3 i + j= 5\n",
      "i= 3 j= 1 i + j= 4\n",
      "i= 3 j= 2 i + j= 5\n",
      "i= 3 j= 3 i + j= 6\n",
      "End of program\n"
     ]
    }
   ],
   "source": [
    "for i in range(1,4,1):\n",
    "    for j in range(1,4,1):\n",
    "        print(\"i=\", i, \"j=\", j, 'i + j=', i+j)\n",
    "print(\"End of program\")\n",
    "        "
   ]
  },
  {
   "cell_type": "markdown",
   "metadata": {},
   "source": [
    "Write a table to show multiplication tables from 1 to 5"
   ]
  },
  {
   "cell_type": "code",
   "execution_count": 7,
   "metadata": {},
   "outputs": [
    {
     "name": "stdout",
     "output_type": "stream",
     "text": [
      "   1    2    3    4    5 \n",
      "   2    4    6    8   10 \n",
      "   3    6    9   12   15 \n",
      "   4    8   12   16   20 \n",
      "   5   10   15   20   25 \n",
      "   6   12   18   24   30 \n",
      "   7   14   21   28   35 \n",
      "   8   16   24   32   40 \n",
      "   9   18   27   36   45 \n",
      "  10   20   30   40   50 \n",
      "End of Program\n"
     ]
    }
   ],
   "source": [
    "for i in range(1,11,1):\n",
    "    for j in range(1,6,1):\n",
    "        print(format(i*j, '4d'), end = ' ')\n",
    "    print()\n",
    "print(\"End of Program\")"
   ]
  },
  {
   "cell_type": "markdown",
   "metadata": {},
   "source": [
    "Write a program to display the pattern of stars given as follows:"
   ]
  },
  {
   "cell_type": "code",
   "execution_count": 52,
   "metadata": {},
   "outputs": [
    {
     "name": "stdout",
     "output_type": "stream",
     "text": [
      "star patters display\n",
      " *   *   *   *   *  \n",
      " *   *   *   *  \n",
      " *   *   *  \n",
      " *   *  \n",
      " *  \n",
      "end of program\n"
     ]
    }
   ],
   "source": [
    "print('star patters display')\n",
    "num=7\n",
    "x=num\n",
    "\n",
    "for i in range(1,6,1):\n",
    "    num=num - 1;\n",
    "    for j in range(1,num, 1):\n",
    "            print(' * ', end = \" \")\n",
    "            x=num-1\n",
    "    print()\n",
    "print('end of program')"
   ]
  },
  {
   "cell_type": "code",
   "execution_count": 46,
   "metadata": {},
   "outputs": [
    {
     "data": {
      "text/plain": [
       "[1, 2, 3, 4, 5]"
      ]
     },
     "execution_count": 46,
     "metadata": {},
     "output_type": "execute_result"
    }
   ],
   "source": [
    "list(range(1,6,1))\n"
   ]
  },
  {
   "cell_type": "code",
   "execution_count": 55,
   "metadata": {},
   "outputs": [
    {
     "name": "stdout",
     "output_type": "stream",
     "text": [
      "Write a program to display the pattern of stars given as follows:\n",
      "* \n",
      "* * \n",
      "* * * \n",
      "* * * * \n",
      "* * * * * \n",
      "end of the program\n"
     ]
    }
   ],
   "source": [
    "print('Write a program to display the pattern of stars given as follows:')\n",
    "\n",
    "num=1\n",
    "x=num\n",
    "\n",
    "for i in range(1,6,1):\n",
    "    num=num+1;\n",
    "    for j in range(1,num,1):\n",
    "        print('*', end = \" \")\n",
    "        x=num+1\n",
    "    print()\n",
    "print('end of the program')"
   ]
  },
  {
   "cell_type": "code",
   "execution_count": 62,
   "metadata": {},
   "outputs": [
    {
     "name": "stdout",
     "output_type": "stream",
     "text": [
      "\n",
      "1   \n",
      "2   2   \n",
      "3   3   3   \n",
      "4   4   4   4   \n",
      "5   5   5   5   5   \n"
     ]
    }
   ],
   "source": [
    "rows=5\n",
    "for i in range(rows+1):\n",
    "    for j in range(i):\n",
    "        print(i, end='   ')\n",
    "    print('')"
   ]
  },
  {
   "cell_type": "code",
   "execution_count": 73,
   "metadata": {},
   "outputs": [
    {
     "name": "stdout",
     "output_type": "stream",
     "text": [
      "Python    \n",
      "Python    Python    \n",
      "Python    Python    Python    \n",
      "Python    Python    Python    Python    \n"
     ]
    }
   ],
   "source": [
    "for i in range(4):\n",
    "    for j in range(i+1):\n",
    "        print('Python', end ='    ')\n",
    "    print()"
   ]
  },
  {
   "cell_type": "code",
   "execution_count": 76,
   "metadata": {},
   "outputs": [
    {
     "name": "stdout",
     "output_type": "stream",
     "text": [
      "Please enter number of rows:4\n",
      "Python    Python    Python    Python    \n",
      "Python    Python    Python    \n",
      "Python    Python    \n",
      "Python    \n"
     ]
    }
   ],
   "source": [
    "n=int(input(\"Please enter number of rows:\"))\n",
    "\n",
    "for i in range(n):\n",
    "    for j in range(n-i):\n",
    "        print('Python', end ='    ')\n",
    "    print()"
   ]
  },
  {
   "cell_type": "code",
   "execution_count": 81,
   "metadata": {},
   "outputs": [
    {
     "name": "stdout",
     "output_type": "stream",
     "text": [
      "1  \n",
      "2  2  \n",
      "3  3  3  \n",
      "4  4  4  4  \n",
      "5  5  5  5  5  \n"
     ]
    }
   ],
   "source": [
    "for i in range(1,6,1):\n",
    "    for j in range(i):\n",
    "        print(i, end = '  ')\n",
    "    print()"
   ]
  },
  {
   "cell_type": "code",
   "execution_count": 109,
   "metadata": {},
   "outputs": [
    {
     "name": "stdout",
     "output_type": "stream",
     "text": [
      "0 1 \n",
      "0 1 2 \n",
      "0 1 2 3 \n",
      "0 1 2 3 4 \n",
      "0 1 2 3 4 5 \n",
      "0 1 2 3 4 5 6 \n",
      "0 1 2 3 4 5 6 7 \n",
      "0 1 2 3 4 5 0 1 2 3 4 0 1 2 3 0 1 2 0 1 0 "
     ]
    }
   ],
   "source": [
    "for i in range(1,8,1):\n",
    "    for j in range(i+1):\n",
    "        print(j, end = ' ')\n",
    "    print()\n",
    "for i in range(1, 7,1):\n",
    "    for j in range(7-i):\n",
    "        print(j, end = ' ')"
   ]
  },
  {
   "cell_type": "code",
   "execution_count": 151,
   "metadata": {},
   "outputs": [
    {
     "name": "stdout",
     "output_type": "stream",
     "text": [
      "0 \n",
      "0 1 \n",
      "0 1 2 \n",
      "0 1 2 3 \n",
      "0 1 2 3 4 \n",
      "0 1 2 3 \n",
      "0 1 2 \n",
      "0 1 \n",
      "0 \n"
     ]
    }
   ],
   "source": [
    "for i in range(5):\n",
    "    for j in range(i+1):\n",
    "        print(j, end = ' ')\n",
    "    print()\n",
    "for i in range(4):\n",
    "    for j in range(4-i):\n",
    "        print(j, end = ' ')\n",
    "    print()\n",
    "    "
   ]
  },
  {
   "cell_type": "markdown",
   "metadata": {},
   "source": [
    "for i in range(5):\n",
    "    for j in range(i+1):\n",
    "        print(j, end = ' ')\n",
    "    print()\n",
    "for i in range(4):\n",
    "    for j in range(4-i):\n",
    "        print(j, end = ' ')\n",
    "    print()"
   ]
  },
  {
   "cell_type": "markdown",
   "metadata": {},
   "source": [
    "# Break use in while and For Loop"
   ]
  },
  {
   "cell_type": "code",
   "execution_count": 165,
   "metadata": {},
   "outputs": [
    {
     "name": "stdout",
     "output_type": "stream",
     "text": [
      "1 2 3 4 5 6 7 8 9 10 "
     ]
    }
   ],
   "source": [
    "for i in list(range(1,100)):\n",
    "    if (i==11):\n",
    "        break\n",
    "    else:\n",
    "        print(i, end = ' ')"
   ]
  },
  {
   "cell_type": "code",
   "execution_count": 173,
   "metadata": {},
   "outputs": [
    {
     "name": "stdout",
     "output_type": "stream",
     "text": [
      "please enter the number:11\n",
      "11 is prime\n"
     ]
    }
   ],
   "source": [
    "# check if the number entered is prime or not\n",
    "\n",
    "num=int(input(\"please enter the number:\"))\n",
    "\n",
    "x = num\n",
    "\n",
    "for i in range (2,num):\n",
    "    if num%i==0:\n",
    "        flag=0\n",
    "        break\n",
    "    else:\n",
    "        flag=1\n",
    "if flag==1:\n",
    "    print(num, 'is prime')\n",
    "else:\n",
    "    print(num, 'is not prime')"
   ]
  },
  {
   "cell_type": "code",
   "execution_count": 177,
   "metadata": {},
   "outputs": [
    {
     "name": "stdout",
     "output_type": "stream",
     "text": [
      "please enter the number:10\n"
     ]
    },
    {
     "data": {
      "text/plain": [
       "[2, 3, 4, 5, 6, 7, 8, 9]"
      ]
     },
     "execution_count": 177,
     "metadata": {},
     "output_type": "execute_result"
    }
   ],
   "source": [
    "num=int(input(\"please enter the number:\"))\n",
    "\n",
    "list(range(2,num))"
   ]
  },
  {
   "cell_type": "markdown",
   "metadata": {},
   "source": [
    "# the continue statement"
   ]
  },
  {
   "cell_type": "code",
   "execution_count": 187,
   "metadata": {},
   "outputs": [
    {
     "name": "stdout",
     "output_type": "stream",
     "text": [
      "1 2 3 4 6 7 8 9 10 "
     ]
    }
   ],
   "source": [
    "for i in range(1,11,1):\n",
    "    if i==5:\n",
    "        continue\n",
    "    print(i, end=' ')"
   ]
  },
  {
   "cell_type": "code",
   "execution_count": 184,
   "metadata": {},
   "outputs": [
    {
     "name": "stdout",
     "output_type": "stream",
     "text": [
      "Hey\n"
     ]
    }
   ],
   "source": [
    "n=10\n",
    "\n",
    "while n<=5:\n",
    "    continue\n",
    "else:\n",
    "    print(\"Hey\")"
   ]
  },
  {
   "cell_type": "code",
   "execution_count": 198,
   "metadata": {},
   "outputs": [
    {
     "name": "stdout",
     "output_type": "stream",
     "text": [
      "32\n"
     ]
    }
   ],
   "source": [
    "count = 35\n",
    "\n",
    "for x in range(0,10):\n",
    "    count=count - 1\n",
    "    if x==2:\n",
    "        break\n",
    "print(count)"
   ]
  },
  {
   "cell_type": "code",
   "execution_count": 207,
   "metadata": {},
   "outputs": [
    {
     "name": "stdout",
     "output_type": "stream",
     "text": [
      "5\n"
     ]
    }
   ],
   "source": [
    "z=1\n",
    "\n",
    "while z<5:\n",
    "    if z%7==0:\n",
    "        break\n",
    "    z=z+2\n",
    "print(z)\n",
    "\n",
    "\n"
   ]
  },
  {
   "cell_type": "code",
   "execution_count": 206,
   "metadata": {},
   "outputs": [
    {
     "data": {
      "text/plain": [
       "1"
      ]
     },
     "execution_count": 206,
     "metadata": {},
     "output_type": "execute_result"
    }
   ],
   "source": [
    "1%7"
   ]
  },
  {
   "cell_type": "code",
   "execution_count": 208,
   "metadata": {},
   "outputs": [
    {
     "name": "stdout",
     "output_type": "stream",
     "text": [
      "11\n"
     ]
    }
   ],
   "source": [
    "x= \"I Love Python\"\n",
    "\n",
    "count = 0\n",
    "\n",
    "for char in x:\n",
    "    if char=='o':\n",
    "        continue\n",
    "    else:\n",
    "        count=count + 1\n",
    "print(count)"
   ]
  },
  {
   "cell_type": "code",
   "execution_count": 209,
   "metadata": {},
   "outputs": [
    {
     "name": "stdout",
     "output_type": "stream",
     "text": [
      "13\n"
     ]
    }
   ],
   "source": [
    "x= \"I Love Python\"\n",
    "\n",
    "count = 0\n",
    "\n",
    "for char in x:\n",
    "    if char=='E':\n",
    "        break\n",
    "    else:\n",
    "        count=count + 1\n",
    "print(count)"
   ]
  },
  {
   "cell_type": "code",
   "execution_count": 8,
   "metadata": {},
   "outputs": [
    {
     "name": "stdout",
     "output_type": "stream",
     "text": [
      "64\n"
     ]
    }
   ],
   "source": [
    "i = 1\n",
    "for x in range(1,4):\n",
    "    for y in range(1,3):\n",
    "        i = i + (i*1)\n",
    "print(i)"
   ]
  },
  {
   "cell_type": "code",
   "execution_count": 214,
   "metadata": {},
   "outputs": [
    {
     "name": "stdout",
     "output_type": "stream",
     "text": [
      "1 2 3 4 1 2 3 4 1 2 3 4 1 2 3 4 \n"
     ]
    }
   ],
   "source": [
    "i = 1\n",
    "\n",
    "while i<5:\n",
    "    j=1\n",
    "    while j<5:\n",
    "        print(j, end =' ')\n",
    "        j=j+1\n",
    "    i=i+1"
   ]
  },
  {
   "cell_type": "code",
   "execution_count": 4,
   "metadata": {},
   "outputs": [
    {
     "name": "stdout",
     "output_type": "stream",
     "text": [
      "1\n",
      "2\n"
     ]
    }
   ],
   "source": [
    "# BREAK\n",
    "\n",
    "i=1\n",
    "\n",
    "while i<=5:\n",
    "    if i==3:\n",
    "        break\n",
    "    print(i)\n",
    "    i=i+1\n",
    "    \n",
    "    \n",
    "\n"
   ]
  },
  {
   "cell_type": "code",
   "execution_count": 6,
   "metadata": {},
   "outputs": [
    {
     "name": "stdout",
     "output_type": "stream",
     "text": [
      "1\n",
      "2\n",
      "4\n",
      "5\n",
      "6\n"
     ]
    }
   ],
   "source": [
    "    \n",
    "# CONTINUE\n",
    "i = 0\n",
    "\n",
    "while i<=5:\n",
    "    i = i + 1\n",
    "    if i ==3:\n",
    "        continue\n",
    "    print(i)\n"
   ]
  },
  {
   "cell_type": "code",
   "execution_count": 9,
   "metadata": {},
   "outputs": [
    {
     "name": "stdout",
     "output_type": "stream",
     "text": [
      "64\n"
     ]
    }
   ],
   "source": [
    "i = 1\n",
    "for x in range(1,4):\n",
    "    for y in range(1,3):\n",
    "        i = i + (i*1)\n",
    "print(i)"
   ]
  },
  {
   "cell_type": "code",
   "execution_count": null,
   "metadata": {},
   "outputs": [],
   "source": []
  }
 ],
 "metadata": {
  "kernelspec": {
   "display_name": "Python 3",
   "language": "python",
   "name": "python3"
  },
  "language_info": {
   "codemirror_mode": {
    "name": "ipython",
    "version": 3
   },
   "file_extension": ".py",
   "mimetype": "text/x-python",
   "name": "python",
   "nbconvert_exporter": "python",
   "pygments_lexer": "ipython3",
   "version": "3.7.4"
  }
 },
 "nbformat": 4,
 "nbformat_minor": 2
}
